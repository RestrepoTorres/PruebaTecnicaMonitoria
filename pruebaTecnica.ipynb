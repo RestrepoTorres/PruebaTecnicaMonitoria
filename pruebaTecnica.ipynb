{
  "nbformat": 4,
  "nbformat_minor": 0,
  "metadata": {
    "colab": {
      "provenance": [],
      "include_colab_link": true
    },
    "kernelspec": {
      "name": "python3",
      "display_name": "Python 3"
    },
    "language_info": {
      "name": "python"
    }
  },
  "cells": [
    {
      "cell_type": "markdown",
      "metadata": {
        "id": "view-in-github",
        "colab_type": "text"
      },
      "source": [
        "<a href=\"https://colab.research.google.com/github/RestrepoTorres/PruebaTecnicaMonitoria/blob/master/pruebaTecnica.ipynb\" target=\"_parent\"><img src=\"https://colab.research.google.com/assets/colab-badge.svg\" alt=\"Open In Colab\"/></a>"
      ]
    },
    {
      "cell_type": "code",
      "source": [
        "import pandas as pd\n",
        "\n",
        "#El siguiente método accede y retorna una lista con la información de interés de un archivo .xlsx\n",
        "def getData(fileName):\n",
        "  ws = pd.read_excel(fileName, sheet_name=\"1-PERFIL\", header=None)\n",
        "  cellsCoordinates = [[2,7],[2,4],[2,8],[2,12],[2,14],[5,14]]\n",
        "  cellsData= [fileName]\n",
        "  for cell in cellsCoordinates:\n",
        "    a,b = cell\n",
        "    cellsData.append(ws[a][b])\n",
        "\n",
        "  ws = pd.read_excel(fileName, sheet_name=\"3-PRESUPUESTO INVERSIÓN\", header=None)\n",
        "  cellsData.append(int(ws[10][173]))\n",
        "  return cellsData"
      ],
      "metadata": {
        "id": "72CsDOuaP1PY"
      },
      "execution_count": null,
      "outputs": []
    },
    {
      "cell_type": "code",
      "execution_count": null,
      "metadata": {
        "id": "XLxPJ3jj0m7N"
      },
      "outputs": [],
      "source": [
        "#aplicamos el método anteriormente creado para obtener la información de\n",
        "#los dos archivos que son de nuestro interés\n",
        "datosArchivo1 = getData('Proyecto106_Infraestructura_CFA.xlsx')\n",
        "datosArchivo2 = getData('Proyecto115_Politica_semilleros_investigacion_IEP.xlsx')\n",
        "\n",
        "\n",
        "#anexamos la información capturada a un DataFrame\n",
        "df = pd.DataFrame (columns=[\"Nombre del archivo\",\"Nombre del proyecto\",\"Dependencia\",\n",
        "\"Lider del proyecto\",\"problema central\",\"causa primaria 1\",\"causa primaria 2\", \"total\"] )\n",
        "df.loc[len(df)] = datosArchivo1\n",
        "df.loc[len(df)] = datosArchivo2\n",
        "\n",
        "#Creamos el archivo de salida con la información recolectada en el DataFrame\n",
        "writer = pd.ExcelWriter(\"Prueba_Técnica.xlsx\")\n",
        "df.to_excel(writer,\"resultado\", index = False)\n",
        "writer.close()"
      ]
    },
    {
      "cell_type": "code",
      "source": [
        "!pip install openpyxl"
      ],
      "metadata": {
        "colab": {
          "base_uri": "https://localhost:8080/"
        },
        "id": "kwl4L4NoQbig",
        "outputId": "d6fef823-d502-4fa8-e284-1c158bd36d9a"
      },
      "execution_count": null,
      "outputs": [
        {
          "output_type": "stream",
          "name": "stdout",
          "text": [
            "Requirement already satisfied: openpyxl in /usr/local/lib/python3.10/dist-packages (3.0.10)\n",
            "Requirement already satisfied: et-xmlfile in /usr/local/lib/python3.10/dist-packages (from openpyxl) (1.1.0)\n"
          ]
        }
      ]
    },
    {
      "cell_type": "code",
      "source": [
        "#En el siguiente trozo de código lo que se hace es darle formato visual al .xlsx resultante\n",
        "#Para hacerlo más legible a primera vista\n",
        "import openpyxl\n",
        "from openpyxl.styles import Alignment\n",
        "worksheet = openpyxl.load_workbook(\"Prueba_Técnica.xlsx\")\n",
        "sheet = worksheet.active\n",
        "sheet.column_dimensions['A'].width = 20\n",
        "sheet.column_dimensions['B'].width = 30\n",
        "sheet.column_dimensions['C'].width = 20\n",
        "sheet.column_dimensions['D'].width = 30\n",
        "sheet.column_dimensions['E'].width = 30\n",
        "sheet.column_dimensions['F'].width = 30\n",
        "sheet.column_dimensions['G'].width = 30\n",
        "sheet['H2'].number_format = '#,##0$'\n",
        "sheet['H3'].number_format = '#,##0$'\n",
        "\n",
        "for row in sheet.iter_rows():\n",
        "    for cell in row:\n",
        "        cell.alignment = Alignment(wrap_text=True)\n",
        "worksheet.save(\"Prueba_Técnica.xlsx\")"
      ],
      "metadata": {
        "id": "t5cc3sROE0T3"
      },
      "execution_count": null,
      "outputs": []
    }
  ]
}